{
 "cells": [
  {
   "cell_type": "markdown",
   "metadata": {},
   "source": [
    "# Agent Testing File"
   ]
  },
  {
   "cell_type": "code",
   "execution_count": 1,
   "metadata": {},
   "outputs": [],
   "source": [
    "import pandas as pd"
   ]
  },
  {
   "cell_type": "code",
   "execution_count": 2,
   "metadata": {},
   "outputs": [],
   "source": [
    "# Import agents\n",
    "from agent import SummarizationAgent, PersonalizationAgent, ArbiterAgent"
   ]
  },
  {
   "cell_type": "code",
   "execution_count": 3,
   "metadata": {},
   "outputs": [],
   "source": [
    "# Load article from csv\n",
    "filename = 'newspaper.csv'\n",
    "df = pd.read_csv(filename)\n",
    "df['Zero-Shot Summary'] = pd.NA\n",
    "df['Personalized Summary'] = pd.NA"
   ]
  },
  {
   "cell_type": "code",
   "execution_count": 4,
   "metadata": {},
   "outputs": [
    {
     "data": {
      "text/html": [
       "<div>\n",
       "<style scoped>\n",
       "    .dataframe tbody tr th:only-of-type {\n",
       "        vertical-align: middle;\n",
       "    }\n",
       "\n",
       "    .dataframe tbody tr th {\n",
       "        vertical-align: top;\n",
       "    }\n",
       "\n",
       "    .dataframe thead th {\n",
       "        text-align: right;\n",
       "    }\n",
       "</style>\n",
       "<table border=\"1\" class=\"dataframe\">\n",
       "  <thead>\n",
       "    <tr style=\"text-align: right;\">\n",
       "      <th></th>\n",
       "      <th>ID</th>\n",
       "      <th>Date of Article</th>\n",
       "      <th>Category</th>\n",
       "      <th>Title</th>\n",
       "      <th>Body</th>\n",
       "      <th>URL</th>\n",
       "      <th>Zero-Shot Summary</th>\n",
       "      <th>Personalized Summary</th>\n",
       "    </tr>\n",
       "  </thead>\n",
       "  <tbody>\n",
       "    <tr>\n",
       "      <th>0</th>\n",
       "      <td>cd51366d-bf93-4eaf-a0d9-bfabd480b0c6</td>\n",
       "      <td>2024-11-12</td>\n",
       "      <td>General</td>\n",
       "      <td>Witnesses, suspect sought after Vaughan fake-r...</td>\n",
       "      <td>York Regional Police are reminding people wh...</td>\n",
       "      <td>https://www.thestar.com/news/gta/witnesses-sus...</td>\n",
       "      <td>&lt;NA&gt;</td>\n",
       "      <td>&lt;NA&gt;</td>\n",
       "    </tr>\n",
       "    <tr>\n",
       "      <th>1</th>\n",
       "      <td>381355a1-93bc-4228-9009-06319d9b2b18</td>\n",
       "      <td>2024-11-11</td>\n",
       "      <td>General</td>\n",
       "      <td>Uranus Might Have Experienced a Freak Event Wh...</td>\n",
       "      <td>Our understanding of Uranus might have been al...</td>\n",
       "      <td>https://www.nytimes.com/2024/11/11/science/ura...</td>\n",
       "      <td>&lt;NA&gt;</td>\n",
       "      <td>&lt;NA&gt;</td>\n",
       "    </tr>\n",
       "    <tr>\n",
       "      <th>2</th>\n",
       "      <td>eec123e0-cf60-472a-aa0d-533fffb607c2</td>\n",
       "      <td>2024-11-11</td>\n",
       "      <td>General</td>\n",
       "      <td>Engines on 1.4 million Honda vehicles might fa...</td>\n",
       "      <td>CNN —\\n\\nThe U.S. government’s highway safety ...</td>\n",
       "      <td>https://www.cnn.com/2024/11/11/business/honda-...</td>\n",
       "      <td>&lt;NA&gt;</td>\n",
       "      <td>&lt;NA&gt;</td>\n",
       "    </tr>\n",
       "    <tr>\n",
       "      <th>3</th>\n",
       "      <td>fd410a00-7ce5-41a1-944c-7092a8f7d2a4</td>\n",
       "      <td>2024-11-07</td>\n",
       "      <td>General</td>\n",
       "      <td>Where the Turkey Comes From the Field, Not the...</td>\n",
       "      <td>Kristie Swenstad was napping in the back of pl...</td>\n",
       "      <td>https://www.nytimes.com/2024/11/07/dining/turk...</td>\n",
       "      <td>&lt;NA&gt;</td>\n",
       "      <td>&lt;NA&gt;</td>\n",
       "    </tr>\n",
       "    <tr>\n",
       "      <th>4</th>\n",
       "      <td>2697587a-633f-4cf5-b403-8f59d2e53f4b</td>\n",
       "      <td>2024-11-12</td>\n",
       "      <td>General</td>\n",
       "      <td>Employers lock out longshore workers in Montre...</td>\n",
       "      <td>The Maritime Employers Association is callin...</td>\n",
       "      <td>https://www.thestar.com/news/canada/quebec/emp...</td>\n",
       "      <td>&lt;NA&gt;</td>\n",
       "      <td>&lt;NA&gt;</td>\n",
       "    </tr>\n",
       "  </tbody>\n",
       "</table>\n",
       "</div>"
      ],
      "text/plain": [
       "                                     ID Date of Article Category  \\\n",
       "0  cd51366d-bf93-4eaf-a0d9-bfabd480b0c6      2024-11-12  General   \n",
       "1  381355a1-93bc-4228-9009-06319d9b2b18      2024-11-11  General   \n",
       "2  eec123e0-cf60-472a-aa0d-533fffb607c2      2024-11-11  General   \n",
       "3  fd410a00-7ce5-41a1-944c-7092a8f7d2a4      2024-11-07  General   \n",
       "4  2697587a-633f-4cf5-b403-8f59d2e53f4b      2024-11-12  General   \n",
       "\n",
       "                                               Title  \\\n",
       "0  Witnesses, suspect sought after Vaughan fake-r...   \n",
       "1  Uranus Might Have Experienced a Freak Event Wh...   \n",
       "2  Engines on 1.4 million Honda vehicles might fa...   \n",
       "3  Where the Turkey Comes From the Field, Not the...   \n",
       "4  Employers lock out longshore workers in Montre...   \n",
       "\n",
       "                                                Body  \\\n",
       "0    York Regional Police are reminding people wh...   \n",
       "1  Our understanding of Uranus might have been al...   \n",
       "2  CNN —\\n\\nThe U.S. government’s highway safety ...   \n",
       "3  Kristie Swenstad was napping in the back of pl...   \n",
       "4    The Maritime Employers Association is callin...   \n",
       "\n",
       "                                                 URL Zero-Shot Summary  \\\n",
       "0  https://www.thestar.com/news/gta/witnesses-sus...              <NA>   \n",
       "1  https://www.nytimes.com/2024/11/11/science/ura...              <NA>   \n",
       "2  https://www.cnn.com/2024/11/11/business/honda-...              <NA>   \n",
       "3  https://www.nytimes.com/2024/11/07/dining/turk...              <NA>   \n",
       "4  https://www.thestar.com/news/canada/quebec/emp...              <NA>   \n",
       "\n",
       "  Personalized Summary  \n",
       "0                 <NA>  \n",
       "1                 <NA>  \n",
       "2                 <NA>  \n",
       "3                 <NA>  \n",
       "4                 <NA>  "
      ]
     },
     "execution_count": 4,
     "metadata": {},
     "output_type": "execute_result"
    }
   ],
   "source": [
    "df.head()"
   ]
  },
  {
   "cell_type": "code",
   "execution_count": 5,
   "metadata": {},
   "outputs": [
    {
     "data": {
      "text/plain": [
       "'  York Regional Police are reminding people who use ridesharing services to always verify vehicles, licence plates and drivers.  The victim was able to get away, and two bystanders in a grey or white vehicle helped her, York police said. York Regional Police are appealing for witnesses after a woman was sexually assaulted in Vaughan on Friday, Nov. 8. Around 7 a.m., police said, the victim was waiting for a bus near Countryside Road and Bramalea Road when the suspect approached her in a black sedan, presented himself as a rideshare driver and offered her a ride. The suspect then drove the victim to the area of Highway 27 and Nashville Road in Vaughan where he sexually assaulted her, police said in a news release. The victim was able to get away, and two bystanders in a grey or white vehicle helped her. Investigators say the suspect then fled the area. The suspect is described as a man who was about five-feet-six inches tall and between 23 and 25 years of age, who had black hair, black eyes, a thin build, and a full beard approximately two inches in length. Previously, Peel police had disclosed a similar crime on the same day, saying that in Brampton around 7 a.m. Friday, an 18-year-old woman was assaulted by a man presenting himself as a rideshare driver. York Regional Police are reminding people who use ridesharing services to always verify vehicles, licence plates and drives. Anyone with information on the Vaughan incident, including bystanders, is asked to call the York Regional Police Special Victims Unit at 1-866-876-5423, ext. 7071, or contact Crime Stoppers at 1-800-222-TIPS, or leave an anonymous tip online at www.1800222tips.com. Elissa Mendes is a breaking news reporter, working out of\\nthe Star’s radio room in Toronto. Reach her via email: emendes@thestar.ca To join the conversation set a first and last name in your user profile. Sign in or register for free to join the Conversation \\nError! There was an error processing your request.\\n         \\n           There was a problem with the recaptcha. Please try again.\\n         \\n                             You may unsubscribe at any time. By signing up, you agree to our terms of use and privacy policy. This site is protected by reCAPTCHA and the Google privacy policy and terms of service apply.\\n                         \\n                                 Want more of the latest from the Star? Sign up for more at our newsletter page.\\n                             \\n                             You may unsubscribe at any time. By signing up, you agree to our terms of use and privacy policy. This site is protected by reCAPTCHA and the Google privacy policy and terms of service apply.\\n                         Your browser is out of date and potentially vulnerable to security risks.We recommend switching to one of the following browsers:       Account processing issue - the email address may already exist Sign up with  Thank you . Your account has been registered, and you are now logged in. Check your email for details. Invalid password or account does not exist Sign in with Submitting this form below will send a message to your email with a link to change your password. An email message containing instructions on how to reset your password has been sent to the email address listed on your account. No promotional rates found.    \\n Secure & Encrypted \\nSecure transaction.\\nSecure transaction. Cancel anytime.\\n  \\nThank you.\\n                                     \\nYour gift purchase was successful!\\nYour purchase was successful, and you are now logged in.\\n A receipt was sent to your email.'"
      ]
     },
     "execution_count": 5,
     "metadata": {},
     "output_type": "execute_result"
    }
   ],
   "source": [
    "article_text = df['Body'].iloc[0]\n",
    "article_text"
   ]
  },
  {
   "cell_type": "code",
   "execution_count": 6,
   "metadata": {},
   "outputs": [
    {
     "name": "stderr",
     "output_type": "stream",
     "text": [
      "2024-11-12 15:12:43,646 - agent - INFO - --- New Session Started: 20241112_151243 ---\n",
      "2024-11-12 15:12:50,575 - agent - INFO - Received response: **User Persona: \"Political Enthusiast Paul\"**\n",
      "\n",
      "**Background:**\n",
      "Paul is a middle-aged American who has taken a keen interest in the political landscape of the United States, especially in recent election cycles. He is highly engaged with conservative media sources and actively participates in online forums and discussions regarding U.S. politics. \n",
      "\n",
      "**US Election 2024:**\n",
      "- **Familiarity:** Expert\n",
      "- **Description:** Paul follows the developments of the 2024 U.S. presidential election very closely. He is aware of all major candidates, their campaigns, and policy positions. He frequently discusses election predictions and strategy, comparing it to historical election data and outcomes. Paul is particularly interested in variables that could influence voter turnout and swing states.\n",
      "\n",
      "**Donald Trump Cabinet:**\n",
      "- **Familiarity:** Moderately Informed\n",
      "- **Description:** Paul has a solid understanding of Donald Trump's previous cabinet and is invested in potential cabinet picks should Trump return to office. He can name several key figures from Trump's past administration and discuss their roles and impacts on policy. Paul keeps an eye on news about former cabinet members making public statements or planning political returns.\n",
      "\n",
      "**Project 2025:**\n",
      "- **Familiarity:** Beginner\n",
      "- **Description:** While Paul has come across references to Project 2025 in his readings, he possesses only a basic understanding of it. He knows it is an initiative related to the Republican Party's plans for governance should they gain executive control, and he is beginning to research more on its implications and objectives. Paul is starting to engage with discussions and articles about it to enhance his understanding.\n",
      "\n",
      "**Dislikes Migrants:**\n",
      "- **Familiarity:** Expert\n",
      "- **Description:** Paul holds strong opinions against current U.S. immigration policies and is very vocal about his views on migration. He is knowledgeable about laws, proposals, and debates concerning immigration reform and border control. Paul is known to cite statistics and case studies to support discussions on the socioeconomic impacts of migration in the U.S. \n",
      "\n",
      "**Overall Interests:**\n",
      "Paul's primary focus is on issues surrounding national sovereignty, the economic impact of policies, and the perceived cultural shifts in America. He often relates these interests to his broader political discussions and is an active participant in local political groups that share his perspectives.\n",
      "2024-11-12 15:12:50,577 - agent - INFO - Generated persona: **User Persona: \"Political Enthusiast Paul\"**\n",
      "\n",
      "**Background:**\n",
      "Paul is a middle-aged American who has taken a keen interest in the political landscape of the United States, especially in recent election cycles. He is highly engaged with conservative media sources and actively participates in online forums and discussions regarding U.S. politics. \n",
      "\n",
      "**US Election 2024:**\n",
      "- **Familiarity:** Expert\n",
      "- **Description:** Paul follows the developments of the 2024 U.S. presidential election very closely. He is aware of all major candidates, their campaigns, and policy positions. He frequently discusses election predictions and strategy, comparing it to historical election data and outcomes. Paul is particularly interested in variables that could influence voter turnout and swing states.\n",
      "\n",
      "**Donald Trump Cabinet:**\n",
      "- **Familiarity:** Moderately Informed\n",
      "- **Description:** Paul has a solid understanding of Donald Trump's previous cabinet and is invested in potential cabinet picks should Trump return to office. He can name several key figures from Trump's past administration and discuss their roles and impacts on policy. Paul keeps an eye on news about former cabinet members making public statements or planning political returns.\n",
      "\n",
      "**Project 2025:**\n",
      "- **Familiarity:** Beginner\n",
      "- **Description:** While Paul has come across references to Project 2025 in his readings, he possesses only a basic understanding of it. He knows it is an initiative related to the Republican Party's plans for governance should they gain executive control, and he is beginning to research more on its implications and objectives. Paul is starting to engage with discussions and articles about it to enhance his understanding.\n",
      "\n",
      "**Dislikes Migrants:**\n",
      "- **Familiarity:** Expert\n",
      "- **Description:** Paul holds strong opinions against current U.S. immigration policies and is very vocal about his views on migration. He is knowledgeable about laws, proposals, and debates concerning immigration reform and border control. Paul is known to cite statistics and case studies to support discussions on the socioeconomic impacts of migration in the U.S. \n",
      "\n",
      "**Overall Interests:**\n",
      "Paul's primary focus is on issues surrounding national sovereignty, the economic impact of policies, and the perceived cultural shifts in America. He often relates these interests to his broader political discussions and is an active participant in local political groups that share his perspectives.\n"
     ]
    }
   ],
   "source": [
    "# init agents\n",
    "summarization_agent = SummarizationAgent()\n",
    "personalization_agent = PersonalizationAgent(profile=[\"US election 2024\", \"donald trump cabinet\", \"project 2025\", \"dislikes migrants\"])\n",
    "arbiter_agent = ArbiterAgent()"
   ]
  },
  {
   "cell_type": "code",
   "execution_count": 7,
   "metadata": {},
   "outputs": [
    {
     "name": "stderr",
     "output_type": "stream",
     "text": [
      "2024-11-12 15:15:38,819 - agent - INFO - Starting summarization...\n",
      "2024-11-12 15:15:38,819 - agent - DEBUG - Generating initial summary...\n",
      "2024-11-12 15:15:40,749 - agent - INFO - Received response: York Regional Police are seeking witnesses after a woman was sexually assaulted in Vaughan by a man posing as a rideshare driver. The suspect approached the victim at a bus stop, drove her to a different location, assaulted her, and then fled after she managed to escape with the help of two bystanders. Authorities are urging individuals to always verify vehicles, license plates, and drivers when using ridesharing services and are requesting anyone with information to contact the York Regional Police Special Victims Unit or Crime Stoppers.\n",
      "2024-11-12 15:15:40,750 - agent - INFO - Summary generated successfully.\n"
     ]
    }
   ],
   "source": [
    "# Step 2: Generate Initial Summary\n",
    "initial_summary = summarization_agent.process(article_text)"
   ]
  },
  {
   "cell_type": "code",
   "execution_count": null,
   "metadata": {},
   "outputs": [],
   "source": [
    "# Step 3: Refine Summary with Personalization Feedback\n",
    "summaries = [initial_summary]\n",
    "for _ in range(2):  # Limit to 2 feedback iterations for simplicity\n",
    "    feedback = personalization_agent.process(summaries[-1])\n",
    "    refined_summary = summarization_agent.process(article_text, feedback=feedback)\n",
    "    summaries.append(refined_summary)"
   ]
  },
  {
   "cell_type": "code",
   "execution_count": null,
   "metadata": {},
   "outputs": [],
   "source": [
    "# Step 4: Verify Final Summary with ArbiterAgent\n",
    "final_summary = arbiter_agent.process(article_text, summaries)\n",
    "\n",
    "# Step 5: Output the final verified summary\n",
    "print(\"Final Summary:\")\n",
    "print(final_summary)\n"
   ]
  }
 ],
 "metadata": {
  "kernelspec": {
   "display_name": "ece1786",
   "language": "python",
   "name": "python3"
  },
  "language_info": {
   "codemirror_mode": {
    "name": "ipython",
    "version": 3
   },
   "file_extension": ".py",
   "mimetype": "text/x-python",
   "name": "python",
   "nbconvert_exporter": "python",
   "pygments_lexer": "ipython3",
   "version": "3.10.14"
  }
 },
 "nbformat": 4,
 "nbformat_minor": 2
}
